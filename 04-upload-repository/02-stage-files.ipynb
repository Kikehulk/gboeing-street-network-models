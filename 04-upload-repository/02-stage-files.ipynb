{
 "cells": [
  {
   "cell_type": "markdown",
   "metadata": {},
   "source": [
    "## Zip all data files into a staging area for upload to Dataverse"
   ]
  },
  {
   "cell_type": "code",
   "execution_count": null,
   "metadata": {},
   "outputs": [],
   "source": [
    "import json\n",
    "import os\n",
    "import zipfile\n",
    "\n",
    "# load configs\n",
    "with open('../config.json') as f:\n",
    "    config = json.load(f)"
   ]
  },
  {
   "cell_type": "code",
   "execution_count": null,
   "metadata": {},
   "outputs": [],
   "source": [
    "manifest = [{'input': config['models_gpkg_path'],    'output': config['staging_gpkg_path']},\n",
    "            {'input': config['models_graphml_path'], 'output': config['staging_graphml_path']},\n",
    "            {'input': config['models_nelist_path'],  'output': config['staging_nelist_path']}]\n",
    "manifest"
   ]
  },
  {
   "cell_type": "code",
   "execution_count": null,
   "metadata": {},
   "outputs": [],
   "source": [
    "# zip a whole directory\n",
    "def zip_dir(input_path, output_folder, output_file):\n",
    "    \n",
    "    if not os.path.exists(output_folder):\n",
    "        os.makedirs(output_folder)\n",
    "    \n",
    "    output_path = '{}/{}.zip'.format(output_folder, output_file)\n",
    "    zf = zipfile.ZipFile(file=output_path, mode='w', compression=zipfile.ZIP_DEFLATED)\n",
    "    \n",
    "    for root, folders, files in os.walk(input_path):\n",
    "        for file in files:\n",
    "            input_file = os.path.join(root, file)\n",
    "            \n",
    "            # preserve the relative path below the state level in the zip archive\n",
    "            if '/shapefiles/' in input_file:\n",
    "                pattern = '/shapefiles/'\n",
    "            elif '/graphml/' in input_file:\n",
    "                pattern = '/graphml/'\n",
    "            elif '/node_edge_lists/' in input_file:\n",
    "                pattern = '/node_edge_lists/'\n",
    "            else:\n",
    "                raise ValueError\n",
    "            arcname = input_file[input_file.find(pattern) + len(pattern) + 6:]\n",
    "            zf.write(filename=os.path.join(root, file), arcname=arcname)\n",
    "\n",
    "    zf.close()"
   ]
  },
  {
   "cell_type": "code",
   "execution_count": null,
   "metadata": {},
   "outputs": [],
   "source": [
    "%%time\n",
    "for item in manifest:\n",
    "    print(item['output'])\n",
    "    for state_folder in os.listdir(item['input']):\n",
    "\n",
    "        input_path = '{}/{}'.format(item['input'], state_folder)\n",
    "        output_folder = '{}/{}'.format(config.staging_folder, item['output'])\n",
    "        output_file = '{}-{}'.format(state_folder.replace('_', '-'), item['output'])\n",
    "        zip_dir(input_path, output_folder, output_file)"
   ]
  },
  {
   "cell_type": "code",
   "execution_count": null,
   "metadata": {},
   "outputs": [],
   "source": []
  }
 ],
 "metadata": {
  "kernelspec": {
   "display_name": "Python 3",
   "language": "python",
   "name": "python3"
  },
  "language_info": {
   "codemirror_mode": {
    "name": "ipython",
    "version": 3
   },
   "file_extension": ".py",
   "mimetype": "text/x-python",
   "name": "python",
   "nbconvert_exporter": "python",
   "pygments_lexer": "ipython3",
   "version": "3.8.3"
  }
 },
 "nbformat": 4,
 "nbformat_minor": 4
}
